{
 "cells": [
  {
   "cell_type": "markdown",
   "id": "807437a7",
   "metadata": {},
   "source": [
    "Question 1- Write a Python program to check that a string contains only a certain set of characters (in this case a-z, A-Z and 0-9)."
   ]
  },
  {
   "cell_type": "code",
   "execution_count": 5,
   "id": "19ca2937",
   "metadata": {},
   "outputs": [
    {
     "name": "stdout",
     "output_type": "stream",
     "text": [
      "String contains only a-z, A-Z, and 0-9.\n",
      "String contains other characters.\n"
     ]
    }
   ],
   "source": [
    "import re\n",
    "\n",
    "def check_characters(string):\n",
    "    pattern = r'^[a-zA-Z0-9]+$' \n",
    "    if re.match(pattern, string):\n",
    "        print(\"String contains only a-z, A-Z, and 0-9.\")\n",
    "    else:\n",
    "        print(\"String contains other characters.\")\n",
    "\n",
    "\n",
    "check_characters(\"HelloWorld123\")\n",
    "check_characters(\"Hello@World\")  \n"
   ]
  },
  {
   "cell_type": "markdown",
   "id": "029449a6",
   "metadata": {},
   "source": [
    "Question 2- Create a function in python that matches a string that has an a followed by zero or more b's"
   ]
  },
  {
   "cell_type": "code",
   "execution_count": 6,
   "id": "11976052",
   "metadata": {},
   "outputs": [
    {
     "name": "stdout",
     "output_type": "stream",
     "text": [
      "String matches the pattern.\n",
      "String matches the pattern.\n",
      "String matches the pattern.\n",
      "String matches the pattern.\n",
      "String matches the pattern.\n",
      "String matches the pattern.\n"
     ]
    }
   ],
   "source": [
    "def match_string(string):\n",
    "    pattern = r'ab*' \n",
    "    if re.match(pattern, string):\n",
    "        print(\"String matches the pattern.\")\n",
    "    else:\n",
    "        print(\"String does not match the pattern.\")\n",
    "\n",
    "\n",
    "match_string(\"ab\")     \n",
    "match_string(\"abb\")    \n",
    "match_string(\"ac\")      \n",
    "match_string(\"a\")       \n",
    "match_string(\"abc\")     \n",
    "match_string(\"abbbbbb\") "
   ]
  },
  {
   "cell_type": "markdown",
   "id": "14e27398",
   "metadata": {},
   "source": [
    "Question 3-  Create a function in python that matches a string that has an a followed by one or more b's\n"
   ]
  },
  {
   "cell_type": "code",
   "execution_count": 7,
   "id": "ec2574b5",
   "metadata": {},
   "outputs": [
    {
     "name": "stdout",
     "output_type": "stream",
     "text": [
      "String matches the pattern.\n",
      "String matches the pattern.\n",
      "String does not match the pattern.\n",
      "String does not match the pattern.\n",
      "String matches the pattern.\n",
      "String matches the pattern.\n"
     ]
    }
   ],
   "source": [
    "\n",
    "\n",
    "def match_string(string):\n",
    "    pattern = r'a{1}b+'  \n",
    "    if re.match(pattern, string):\n",
    "        print(\"String matches the pattern.\")\n",
    "    else:\n",
    "        print(\"String does not match the pattern.\")\n",
    "\n",
    "# Example usage\n",
    "match_string(\"ab\")      \n",
    "match_string(\"abb\")    \n",
    "match_string(\"ac\")      \n",
    "match_string(\"a\")       \n",
    "match_string(\"abc\")     \n",
    "match_string(\"abbbbbb\") \n"
   ]
  },
  {
   "cell_type": "markdown",
   "id": "6eca1bca",
   "metadata": {},
   "source": [
    "Question 4- Create a function in Python and use RegEx that matches a string that has an a followed by zero or one 'b'.\n"
   ]
  },
  {
   "cell_type": "code",
   "execution_count": 9,
   "id": "b6045b5a",
   "metadata": {},
   "outputs": [
    {
     "name": "stdout",
     "output_type": "stream",
     "text": [
      "String matches the pattern.\n",
      "String matches the pattern.\n",
      "String matches the pattern.\n",
      "String matches the pattern.\n",
      "String matches the pattern.\n",
      "String matches the pattern.\n",
      "String does not match the pattern.\n"
     ]
    }
   ],
   "source": [
    "\n",
    "\n",
    "def match_string(string):\n",
    "    pattern = r'ab?' \n",
    "    if re.match(pattern, string):\n",
    "        print(\"String matches the pattern.\")\n",
    "    else:\n",
    "        print(\"String does not match the pattern.\")\n",
    "\n",
    "# Example usage\n",
    "match_string(\"ab\")      \n",
    "match_string(\"a\")       \n",
    "match_string(\"abb\")     \n",
    "match_string(\"ac\")      \n",
    "match_string(\"abc\")     \n",
    "match_string(\"abbbbbb\") \n",
    "match_string(\"hetal\")"
   ]
  },
  {
   "cell_type": "markdown",
   "id": "e9d6570b",
   "metadata": {},
   "source": [
    "Question 5- Write a Python program that matches a string that has an a followed by three 'b'.\n"
   ]
  },
  {
   "cell_type": "code",
   "execution_count": 10,
   "id": "6f8c9735",
   "metadata": {},
   "outputs": [
    {
     "name": "stdout",
     "output_type": "stream",
     "text": [
      "String matches the pattern.\n",
      "String matches the pattern.\n",
      "String does not match the pattern.\n",
      "String does not match the pattern.\n",
      "String matches the pattern.\n"
     ]
    }
   ],
   "source": [
    "\n",
    "\n",
    "def match_string(string):\n",
    "    pattern = r'ab{3}'  \n",
    "    if re.match(pattern, string):\n",
    "        print(\"String matches the pattern.\")\n",
    "    else:\n",
    "        print(\"String does not match the pattern.\")\n",
    "\n",
    "# Example usage\n",
    "match_string(\"abbb\")   \n",
    "match_string(\"abbbb\")  \n",
    "match_string(\"abb\")    \n",
    "match_string(\"abc\")    \n",
    "match_string(\"abbbbb\") \n"
   ]
  },
  {
   "cell_type": "markdown",
   "id": "91ee44a2",
   "metadata": {},
   "source": [
    "Question 6- Write a regular expression in Python to split a string into uppercase letters.\n",
    "Sample text: “ImportanceOfRegularExpressionsInPython”\n",
    "Output: [‘Importance’, ‘Of’, ‘Regular’, ‘Expression’, ‘In’, ‘Python’]\n",
    "\n"
   ]
  },
  {
   "cell_type": "code",
   "execution_count": 11,
   "id": "ef66e62b",
   "metadata": {},
   "outputs": [
    {
     "name": "stdout",
     "output_type": "stream",
     "text": [
      "['', 'Importance', 'Of', 'Regular', 'Expressions', 'In', 'Python']\n"
     ]
    }
   ],
   "source": [
    "text = \"ImportanceOfRegularExpressionsInPython\"\n",
    "result = re.split(r'(?=[A-Z])', text)\n",
    "print(result)\n"
   ]
  },
  {
   "cell_type": "markdown",
   "id": "9b2d4b23",
   "metadata": {},
   "source": [
    "Question 7- Write a Python program that matches a string that has an a followed by two to three 'b'."
   ]
  },
  {
   "cell_type": "code",
   "execution_count": 12,
   "id": "669010a0",
   "metadata": {},
   "outputs": [
    {
     "name": "stdout",
     "output_type": "stream",
     "text": [
      "String matches the pattern.\n",
      "String matches the pattern.\n",
      "String matches the pattern.\n",
      "String does not match the pattern.\n",
      "String matches the pattern.\n"
     ]
    }
   ],
   "source": [
    "\n",
    "\n",
    "def match_string(string):\n",
    "    pattern = r'ab{2,3}'\n",
    "    if re.match(pattern, string):\n",
    "        print(\"String matches the pattern.\")\n",
    "    else:\n",
    "        print(\"String does not match the pattern.\")\n",
    "\n",
    "# Example usage\n",
    "match_string(\"abb\")      \n",
    "match_string(\"abbb\")     \n",
    "match_string(\"abbbb\")    \n",
    "match_string(\"abc\")      \n",
    "match_string(\"abbbbbb\")  \n"
   ]
  },
  {
   "cell_type": "markdown",
   "id": "27ed9cdd",
   "metadata": {},
   "source": [
    "Question 8- Write a Python program to find sequences of lowercase letters joined with a underscore.\n"
   ]
  },
  {
   "cell_type": "code",
   "execution_count": 13,
   "id": "0cec1ed1",
   "metadata": {},
   "outputs": [
    {
     "name": "stdout",
     "output_type": "stream",
     "text": [
      "['hello_world', 'python_programming']\n"
     ]
    }
   ],
   "source": [
    "\n",
    "\n",
    "def find_sequences(string):\n",
    "    pattern = r'[a-z]+_[a-z]+' \n",
    "    matches = re.findall(pattern, string)\n",
    "    return matches\n",
    "\n",
    "text = \"hello_world and python_programming are popular examples.\"\n",
    "result = find_sequences(text)\n",
    "print(result)\n"
   ]
  },
  {
   "cell_type": "markdown",
   "id": "4ad9d820",
   "metadata": {},
   "source": [
    "Question 9- Write a Python program that matches a string that has an 'a' followed by anything, ending in 'b'.\n"
   ]
  },
  {
   "cell_type": "code",
   "execution_count": 14,
   "id": "b2e94ec3",
   "metadata": {},
   "outputs": [
    {
     "name": "stdout",
     "output_type": "stream",
     "text": [
      "String matches the pattern.\n",
      "String matches the pattern.\n",
      "String does not match the pattern.\n",
      "String matches the pattern.\n",
      "String matches the pattern.\n",
      "String matches the pattern.\n"
     ]
    }
   ],
   "source": [
    "\n",
    "\n",
    "def match_string(string):\n",
    "    pattern = r'a.*b$'  \n",
    "    if re.match(pattern, string):\n",
    "        print(\"String matches the pattern.\")\n",
    "    else:\n",
    "        print(\"String does not match the pattern.\")\n",
    "\n",
    "\n",
    "match_string(\"acb\")      \n",
    "match_string(\"adefb\")    \n",
    "match_string(\"abcde\")    \n",
    "match_string(\"axb\")      \n",
    "match_string(\"ab\")       \n",
    "match_string(\"a1234b\")   \n"
   ]
  },
  {
   "cell_type": "markdown",
   "id": "e0ee80fe",
   "metadata": {},
   "source": [
    "Question 10- Write a Python program that matches a word at the beginning of a string.\n"
   ]
  },
  {
   "cell_type": "code",
   "execution_count": 15,
   "id": "d812137c",
   "metadata": {},
   "outputs": [
    {
     "name": "stdout",
     "output_type": "stream",
     "text": [
      "String matches the pattern.\n",
      "String matches the pattern.\n",
      "String does not match the pattern.\n",
      "String does not match the pattern.\n"
     ]
    }
   ],
   "source": [
    "import re\n",
    "\n",
    "def match_word(string, word):\n",
    "    pattern = r'^' + re.escape(word)  \n",
    "    if re.match(pattern, string):\n",
    "        print(\"String matches the pattern.\")\n",
    "    else:\n",
    "        print(\"String does not match the pattern.\")\n",
    "\n",
    "\n",
    "match_word(\"Hello, World!\", \"Hello\")   \n",
    "match_word(\"Python Programming\", \"Python\")    \n",
    "match_word(\"OpenAI is amazing\", \"is\")   \n",
    "match_word(\"Welcome to the jungle\", \"to\")    \n"
   ]
  },
  {
   "cell_type": "markdown",
   "id": "82cf814d",
   "metadata": {},
   "source": [
    "Question 11- Write a Python program to match a string that contains only upper and lowercase letters, numbers, and underscores.\n"
   ]
  },
  {
   "cell_type": "code",
   "execution_count": 16,
   "id": "ec6b8bc0",
   "metadata": {},
   "outputs": [
    {
     "name": "stdout",
     "output_type": "stream",
     "text": [
      "String matches the pattern.\n",
      "String matches the pattern.\n",
      "String matches the pattern.\n",
      "String does not match the pattern.\n",
      "String matches the pattern.\n",
      "String does not match the pattern.\n"
     ]
    }
   ],
   "source": [
    "def match_string(string):\n",
    "    pattern = r'^[a-zA-Z0-9_]+$'  \n",
    "    if re.match(pattern, string):\n",
    "        print(\"String matches the pattern.\")\n",
    "    else:\n",
    "        print(\"String does not match the pattern.\")\n",
    "\n",
    "\n",
    "match_string(\"Hello_World123\")  \n",
    "match_string(\"Python3_Regex\")    \n",
    "match_string(\"Alpha_Beta_123\")   \n",
    "match_string(\"Hello@World\")      \n",
    "match_string(\"123_456_789\")      \n",
    "match_string(\"AbC_DeF_123_@#$\")  \n"
   ]
  },
  {
   "cell_type": "markdown",
   "id": "248f0bf0",
   "metadata": {},
   "source": [
    "Question 12- Write a Python program where a string will start with a specific number. \n"
   ]
  },
  {
   "cell_type": "code",
   "execution_count": 17,
   "id": "c8dc5db8",
   "metadata": {},
   "outputs": [
    {
     "name": "stdout",
     "output_type": "stream",
     "text": [
      "String starts with the specified number.\n",
      "String does not start with the specified number.\n",
      "String starts with the specified number.\n",
      "String starts with the specified number.\n",
      "String starts with the specified number.\n"
     ]
    }
   ],
   "source": [
    "def starts_with_number(string, number):\n",
    "    if string.startswith(str(number)):\n",
    "        print(\"String starts with the specified number.\")\n",
    "    else:\n",
    "        print(\"String does not start with the specified number.\")\n",
    "\n",
    "\n",
    "starts_with_number(\"123abc\", 123)   \n",
    "starts_with_number(\"456def\", 123)   \n",
    "starts_with_number(\"789xyz\", 789)   \n",
    "starts_with_number(\"1000abc\", 10)   \n",
    "starts_with_number(\"2000def\", \"2\")  \n"
   ]
  },
  {
   "cell_type": "markdown",
   "id": "241986bb",
   "metadata": {},
   "source": [
    "Question 13- Write a Python program to remove leading zeros from an IP address"
   ]
  },
  {
   "cell_type": "code",
   "execution_count": 18,
   "id": "d41aade2",
   "metadata": {},
   "outputs": [
    {
     "name": "stdout",
     "output_type": "stream",
     "text": [
      "192.168.1.10\n"
     ]
    }
   ],
   "source": [
    "def remove_leading_zeros(ip_address):\n",
    "    octets = ip_address.split(\".\")\n",
    "    cleaned_octets = [str(int(octet)) for octet in octets]\n",
    "    cleaned_ip = \".\".join(cleaned_octets)\n",
    "    return cleaned_ip\n",
    "\n",
    "ip_address = \"192.168.001.010\"\n",
    "cleaned_ip = remove_leading_zeros(ip_address)\n",
    "print(cleaned_ip)  \n"
   ]
  },
  {
   "cell_type": "markdown",
   "id": "35438ffa",
   "metadata": {},
   "source": [
    "Question 14- Write a regular expression in python to match a date string in the form of Month name followed by day number and year stored in a text file.\n",
    "Sample text : ' On August 15th 1947 that India was declared independent from British colonialism, and the reins of control were handed over to the leaders of the Country’.\n",
    "Output- August 15th 1947\n",
    "Hint- Use re.match() method here"
   ]
  },
  {
   "cell_type": "code",
   "execution_count": 19,
   "id": "8c1a1e18",
   "metadata": {},
   "outputs": [
    {
     "name": "stdout",
     "output_type": "stream",
     "text": [
      "None\n"
     ]
    }
   ],
   "source": [
    "\n",
    "\n",
    "def extract_date(text):\n",
    "    pattern = r'\\b([A-Za-z]+ \\d{1,2}(?:st|nd|rd|th)? \\d{4})\\b'\n",
    "    match = re.match(pattern, text)\n",
    "    if match:\n",
    "        return match.group(1)\n",
    "    else:\n",
    "        return None\n",
    "\n",
    "\n",
    "sample_text = \"On August 15th 1947 that India was declared independent...\"\n",
    "date = extract_date(sample_text)\n",
    "print(date) \n"
   ]
  },
  {
   "cell_type": "markdown",
   "id": "27396dfe",
   "metadata": {},
   "source": [
    "Question 15- Write a Python program to search some literals strings in a string. Go to the editor\n",
    "Sample text : 'The quick brown fox jumps over the lazy dog.'\n",
    "Searched words : 'fox', 'dog', 'horse"
   ]
  },
  {
   "cell_type": "code",
   "execution_count": 20,
   "id": "ff3b7179",
   "metadata": {},
   "outputs": [
    {
     "name": "stdout",
     "output_type": "stream",
     "text": [
      "['fox', 'dog']\n"
     ]
    }
   ],
   "source": [
    "def search_strings(text, words):\n",
    "    found_words = []\n",
    "    for word in words:\n",
    "        if word in text:\n",
    "            found_words.append(word)\n",
    "    return found_words\n",
    "\n",
    "\n",
    "sample_text = 'The quick brown fox jumps over the lazy dog.'\n",
    "searched_words = ['fox', 'dog', 'horse']\n",
    "found_words = search_strings(sample_text, searched_words)\n",
    "print(found_words)  \n"
   ]
  },
  {
   "cell_type": "markdown",
   "id": "701f7e24",
   "metadata": {},
   "source": [
    "Question 16- Write a Python program to search a literals string in a string and also find the location within the original string where the pattern occurs\n",
    "Sample text : 'The quick brown fox jumps over the lazy dog.'\n",
    "Searched words : 'fox'\n"
   ]
  },
  {
   "cell_type": "code",
   "execution_count": 21,
   "id": "9f0f33d0",
   "metadata": {},
   "outputs": [
    {
     "name": "stdout",
     "output_type": "stream",
     "text": [
      "Found 'fox' at position 16-19\n"
     ]
    }
   ],
   "source": [
    "def search_string_with_location(text, pattern):\n",
    "    matches = re.finditer(pattern, text)\n",
    "    result = []\n",
    "    for match in matches:\n",
    "        start = match.start()\n",
    "        end = match.end()\n",
    "        result.append((match.group(), start, end))\n",
    "    return result\n",
    "\n",
    "\n",
    "sample_text = 'The quick brown fox jumps over the lazy dog.'\n",
    "searched_word = 'fox'\n",
    "result = search_string_with_location(sample_text, searched_word)\n",
    "for match, start, end in result:\n",
    "    print(f\"Found '{match}' at position {start}-{end}\")\n"
   ]
  },
  {
   "cell_type": "markdown",
   "id": "baa7b4c1",
   "metadata": {},
   "source": [
    "Question 17- Write a Python program to find the substrings within a string.\n",
    "Sample text : 'Python exercises, PHP exercises, C# exercises'\n",
    "Pattern : 'exercises'."
   ]
  },
  {
   "cell_type": "code",
   "execution_count": 23,
   "id": "7d654dd5",
   "metadata": {},
   "outputs": [
    {
     "name": "stdout",
     "output_type": "stream",
     "text": [
      "['exercises', 'exercises', 'exercises']\n"
     ]
    }
   ],
   "source": [
    "\n",
    "\n",
    "def find_substrings(text, pattern):\n",
    "    matches = re.finditer(pattern, text)\n",
    "    substrings = [match.group() for match in matches]\n",
    "    return substrings\n",
    "\n",
    "\n",
    "sample_text = 'Python exercises, PHP exercises, C# exercises'\n",
    "search_pattern = 'exercises'\n",
    "result = find_substrings(sample_text, search_pattern)\n",
    "print(result) "
   ]
  },
  {
   "cell_type": "markdown",
   "id": "82088fe8",
   "metadata": {},
   "source": [
    "Question 18- Write a Python program to find the occurrence and position of the substrings within a string.\n"
   ]
  },
  {
   "cell_type": "code",
   "execution_count": 24,
   "id": "f3e99b39",
   "metadata": {},
   "outputs": [
    {
     "name": "stdout",
     "output_type": "stream",
     "text": [
      "'exercises' found at position 7\n",
      "'exercises' found at position 22\n",
      "'exercises' found at position 36\n"
     ]
    }
   ],
   "source": [
    "def find_substring_occurrences(text, substring):\n",
    "    occurrences = []\n",
    "    start = 0\n",
    "    while start < len(text):\n",
    "        pos = text.find(substring, start)\n",
    "        if pos == -1:\n",
    "            break\n",
    "        occurrences.append((substring, pos))\n",
    "        start = pos + len(substring)\n",
    "    return occurrences\n",
    "\n",
    "\n",
    "sample_text = 'Python exercises, PHP exercises, C# exercises'\n",
    "substring = 'exercises'\n",
    "result = find_substring_occurrences(sample_text, substring)\n",
    "for occurrence, position in result:\n",
    "    print(f\"'{occurrence}' found at position {position}\")\n"
   ]
  },
  {
   "cell_type": "markdown",
   "id": "440869dc",
   "metadata": {},
   "source": [
    "Question 19- Write a Python program to convert a date of yyyy-mm-dd format to dd-mm-yyyy format.\n"
   ]
  },
  {
   "cell_type": "code",
   "execution_count": 26,
   "id": "87d75a78",
   "metadata": {},
   "outputs": [
    {
     "name": "stdout",
     "output_type": "stream",
     "text": [
      "31-07-2022\n"
     ]
    }
   ],
   "source": [
    "from datetime import datetime\n",
    "\n",
    "def convert_date_format(date):\n",
    "    \n",
    "    datetime_obj = datetime.strptime(date, \"%Y-%m-%d\")\n",
    "   \n",
    "    formatted_date = datetime_obj.strftime(\"%d-%m-%Y\")\n",
    "    return formatted_date\n",
    "\n",
    "\n",
    "date = \"2022-07-31\"\n",
    "converted_date = convert_date_format(date)\n",
    "print(converted_date) \n"
   ]
  },
  {
   "cell_type": "markdown",
   "id": "fd70826b",
   "metadata": {},
   "source": [
    "Question 20- Write a Python program to find all words starting with 'a' or 'e' in a given string.\n"
   ]
  },
  {
   "cell_type": "code",
   "execution_count": 27,
   "id": "ae3fba85",
   "metadata": {},
   "outputs": [
    {
     "name": "stdout",
     "output_type": "stream",
     "text": [
      "['An', 'apple', 'away', 'Eat', 'an', 'egg']\n"
     ]
    }
   ],
   "source": [
    "import re\n",
    "\n",
    "def find_words_starting_with_a_or_e(text):\n",
    "    pattern = r'\\b[aAeE]\\w+\\b'  \n",
    "    matches = re.findall(pattern, text)\n",
    "    return matches\n",
    "\n",
    "sample_text = 'An apple a day keeps the doctor away. Eat an egg for breakfast.'\n",
    "result = find_words_starting_with_a_or_e(sample_text)\n",
    "print(result) \n"
   ]
  },
  {
   "cell_type": "markdown",
   "id": "188013fd",
   "metadata": {},
   "source": [
    "Question 21- Write a Python program to separate and print the numbers and their position of a given string.\n"
   ]
  },
  {
   "cell_type": "code",
   "execution_count": 28,
   "id": "5615e987",
   "metadata": {},
   "outputs": [
    {
     "name": "stdout",
     "output_type": "stream",
     "text": [
      "Number 123 found at position 12, position 1\n",
      "Number 456 found at position 17, position 2\n",
      "Number 789 found at position 26, position 3\n"
     ]
    }
   ],
   "source": [
    "import re\n",
    "\n",
    "def separate_numbers_with_position(text):\n",
    "    pattern = r'\\b\\d+\\b' \n",
    "    matches = re.finditer(pattern, text)\n",
    "    for index, match in enumerate(matches, start=1):\n",
    "        number = match.group()\n",
    "        position = match.start()\n",
    "        print(f\"Number {number} found at position {position}, position {index}\")\n",
    "\n",
    "\n",
    "sample_text = 'The numbers 123, 456, and 789 are present.'\n",
    "separate_numbers_with_position(sample_text)\n"
   ]
  },
  {
   "cell_type": "markdown",
   "id": "bc4003bb",
   "metadata": {},
   "source": [
    "Question 22- Write a regular expression in python program to extract maximum numeric value from a string\n"
   ]
  },
  {
   "cell_type": "code",
   "execution_count": 29,
   "id": "d3b61a19",
   "metadata": {},
   "outputs": [
    {
     "name": "stdout",
     "output_type": "stream",
     "text": [
      "1000\n"
     ]
    }
   ],
   "source": [
    "\n",
    "\n",
    "def extract_maximum_numeric_value(string):\n",
    "    numeric_values = re.findall(r'\\d+', string)\n",
    "    if numeric_values:\n",
    "        numeric_values = list(map(int, numeric_values))\n",
    "        maximum_value = max(numeric_values)\n",
    "        return maximum_value\n",
    "    else:\n",
    "        return None\n",
    "\n",
    "\n",
    "sample_string = 'The maximum value is 1000 among all the numbers 500, 200, and 1000.'\n",
    "maximum_value = extract_maximum_numeric_value(sample_string)\n",
    "print(maximum_value)  \n"
   ]
  },
  {
   "cell_type": "markdown",
   "id": "92ce38c4",
   "metadata": {},
   "source": [
    "Question 23- Write a Regex in Python to put spaces between words starting with capital letters\n"
   ]
  },
  {
   "cell_type": "code",
   "execution_count": 30,
   "id": "44959b8b",
   "metadata": {},
   "outputs": [
    {
     "name": "stdout",
     "output_type": "stream",
     "text": [
      " This Is A Regular Expression Example\n"
     ]
    }
   ],
   "source": [
    "def put_spaces_between_words(string):\n",
    "    pattern = r'(?<!\\s)(?=[A-Z])'\n",
    "    updated_string = re.sub(pattern, ' ', string)\n",
    "    return updated_string\n",
    "\n",
    "\n",
    "sample_string = 'ThisIsARegularExpressionExample'\n",
    "updated_string = put_spaces_between_words(sample_string)\n",
    "print(updated_string)  \n"
   ]
  },
  {
   "cell_type": "markdown",
   "id": "618988a3",
   "metadata": {},
   "source": [
    "Question 24- Python regex to find sequences of one upper case letter followed by lower case letters"
   ]
  },
  {
   "cell_type": "code",
   "execution_count": 31,
   "id": "a0ee90ce",
   "metadata": {},
   "outputs": [
    {
     "name": "stdout",
     "output_type": "stream",
     "text": [
      "['The', 'Brown', 'Jumps', 'Lazy', 'Dog']\n"
     ]
    }
   ],
   "source": [
    "import re\n",
    "\n",
    "def find_sequences(string):\n",
    "    pattern = r'[A-Z][a-z]+'\n",
    "    sequences = re.findall(pattern, string)\n",
    "    return sequences\n",
    "\n",
    "\n",
    "sample_string = 'The quick Brown fox Jumps over the Lazy Dog.'\n",
    "result = find_sequences(sample_string)\n",
    "print(result) \n"
   ]
  },
  {
   "cell_type": "markdown",
   "id": "16202732",
   "metadata": {},
   "source": [
    "Question 25- Write a Python program to remove duplicate words from Sentence using Regular Expression\n"
   ]
  },
  {
   "cell_type": "code",
   "execution_count": 32,
   "id": "b3dd8e07",
   "metadata": {},
   "outputs": [
    {
     "name": "stdout",
     "output_type": "stream",
     "text": [
      "This a sample sentence with words is and duplicate\n"
     ]
    }
   ],
   "source": [
    "import re\n",
    "\n",
    "def remove_duplicate_words(sentence):\n",
    "    pattern = r'\\b(\\w+)\\b\\s+(?=.*\\b\\1\\b)'\n",
    "    cleaned_sentence = re.sub(pattern, '', sentence)\n",
    "    return cleaned_sentence\n",
    "\n",
    "\n",
    "sample_sentence = 'This is a sample sentence with duplicate words is and duplicate'\n",
    "cleaned_sentence = remove_duplicate_words(sample_sentence)\n",
    "print(cleaned_sentence)  \n"
   ]
  },
  {
   "cell_type": "markdown",
   "id": "61ca2e8e",
   "metadata": {},
   "source": [
    "Question 26-  Write a python program using RegEx to accept string ending with alphanumeric character.\n"
   ]
  },
  {
   "cell_type": "code",
   "execution_count": 33,
   "id": "b9302247",
   "metadata": {},
   "outputs": [
    {
     "name": "stdout",
     "output_type": "stream",
     "text": [
      "True\n"
     ]
    }
   ],
   "source": [
    "\n",
    "\n",
    "def is_string_ending_with_alphanumeric(string):\n",
    "    pattern = r'\\w$'\n",
    "    match = re.search(pattern, string)\n",
    "    if match:\n",
    "        return True\n",
    "    else:\n",
    "        return False\n",
    "\n",
    "\n",
    "sample_string = 'Hello123'\n",
    "result = is_string_ending_with_alphanumeric(sample_string)\n",
    "print(result)  \n"
   ]
  },
  {
   "cell_type": "markdown",
   "id": "864afa77",
   "metadata": {},
   "source": [
    "Question 27-Write a python program using RegEx to extract the hashtags.\n",
    "Sample Text: text = \"\"\"RT @kapil_kausik: #Doltiwal I mean #xyzabc is \"hurt\" by #Demonetization as the same has rendered USELESS <ed><U+00A0><U+00BD><ed><U+00B1><U+0089> \"acquired funds\" No wo\"\"\"\n",
    "Output: ['#Doltiwal', '#xyzabc', '#Demonetization']\n"
   ]
  },
  {
   "cell_type": "code",
   "execution_count": 34,
   "id": "35700965",
   "metadata": {},
   "outputs": [
    {
     "name": "stdout",
     "output_type": "stream",
     "text": [
      "['#Doltiwal', '#xyzabc', '#Demonetization']\n"
     ]
    }
   ],
   "source": [
    "import re\n",
    "\n",
    "def extract_hashtags(text):\n",
    "    pattern = r'#\\w+'\n",
    "    hashtags = re.findall(pattern, text)\n",
    "    return hashtags\n",
    "\n",
    "\n",
    "sample_text = 'RT @kapil_kausik: #Doltiwal I mean #xyzabc is \"hurt\" by #Demonetization as the same has rendered USELESS <ed><U+00A0><U+00BD><ed><U+00B1><U+0089> \"acquired funds\" No wo'\n",
    "result = extract_hashtags(sample_text)\n",
    "print(result) \n"
   ]
  },
  {
   "cell_type": "markdown",
   "id": "e031d090",
   "metadata": {},
   "source": [
    "Question 28- Write a python program using RegEx to remove <U+..> like symbols\n",
    "Check the below sample text, there are strange symbols something of the sort <U+..> all over the place. You need to come up with a general Regex expression that will cover all such symbols.\n",
    "Sample Text: \"@Jags123456 Bharat band on 28??<ed><U+00A0><U+00BD><ed><U+00B8><U+0082>Those who  are protesting #demonetization  are all different party leaders\"\n",
    "Output: @Jags123456 Bharat band on 28??<ed><ed>Those who  are protesting #demonetization  are all different party leaders\n"
   ]
  },
  {
   "cell_type": "code",
   "execution_count": 35,
   "id": "1a4f6ce9",
   "metadata": {},
   "outputs": [
    {
     "name": "stdout",
     "output_type": "stream",
     "text": [
      "@Jags123456 Bharat band on 28??<ed><ed>Those who are protesting #demonetization are all different party leaders\n"
     ]
    }
   ],
   "source": [
    "\n",
    "\n",
    "def remove_symbols(text):\n",
    "    pattern = r'<U\\+[A-Za-z0-9]+\\>'\n",
    "    cleaned_text = re.sub(pattern, '', text)\n",
    "    return cleaned_text\n",
    "\n",
    "\n",
    "sample_text = \"@Jags123456 Bharat band on 28??<ed><U+00A0><U+00BD><ed><U+00B8><U+0082>Those who are protesting #demonetization are all different party leaders\"\n",
    "cleaned_text = remove_symbols(sample_text)\n",
    "print(cleaned_text)\n"
   ]
  },
  {
   "cell_type": "markdown",
   "id": "baae6f88",
   "metadata": {},
   "source": [
    "Question 29- Write a python program to extract dates from the text stored in the text file.\n",
    "Sample Text: Ron was born on 12-09-1992 and he was admitted to school 15-12-1999.\n",
    "Store this sample text in the file and then extract dates.\n"
   ]
  },
  {
   "cell_type": "code",
   "execution_count": 44,
   "id": "071b0c09",
   "metadata": {},
   "outputs": [
    {
     "name": "stdout",
     "output_type": "stream",
     "text": [
      "['12-09-1992', '15-12-1999']\n"
     ]
    }
   ],
   "source": [
    "\n",
    "def extract_dates_from_file(file_path):\n",
    "    with open(file_path, 'r') as file:\n",
    "        text = file.read()\n",
    "        pattern = r'\\b\\d{2}-\\d{2}-\\d{4}\\b'\n",
    "        dates = re.findall(pattern, text)\n",
    "    return dates\n",
    "\n",
    "file_path = r'C:\\Users\\Lenova\\Desktop\\text.txt'\n",
    "dates = extract_dates_from_file(file_path)\n",
    "print(dates)\n",
    "\n"
   ]
  },
  {
   "cell_type": "markdown",
   "id": "4b87f477",
   "metadata": {},
   "source": [
    "Question 30- Write a Python program to replace all occurrences of a space, comma, or dot with a colon.\n",
    "Sample Text- 'Python Exercises, PHP exercises.'\n",
    "Output: Python:Exercises::PHP:exercises:\n"
   ]
  },
  {
   "cell_type": "code",
   "execution_count": 45,
   "id": "107ba7ac",
   "metadata": {},
   "outputs": [
    {
     "name": "stdout",
     "output_type": "stream",
     "text": [
      "Python:Exercises::PHP:exercises:\n"
     ]
    }
   ],
   "source": [
    "def replace_characters(text):\n",
    "    replacements = [' ', ',', '.']\n",
    "    for char in replacements:\n",
    "        text = text.replace(char, ':')\n",
    "    return text\n",
    "\n",
    "\n",
    "sample_text = 'Python Exercises, PHP exercises.'\n",
    "replaced_text = replace_characters(sample_text)\n",
    "print(replaced_text)  \n"
   ]
  }
 ],
 "metadata": {
  "kernelspec": {
   "display_name": "Python 3 (ipykernel)",
   "language": "python",
   "name": "python3"
  },
  "language_info": {
   "codemirror_mode": {
    "name": "ipython",
    "version": 3
   },
   "file_extension": ".py",
   "mimetype": "text/x-python",
   "name": "python",
   "nbconvert_exporter": "python",
   "pygments_lexer": "ipython3",
   "version": "3.11.3"
  }
 },
 "nbformat": 4,
 "nbformat_minor": 5
}
